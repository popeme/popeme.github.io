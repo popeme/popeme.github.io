{
  "cells": [
    {
      "cell_type": "raw",
      "metadata": {},
      "source": [
        "---\n",
        "title: Publications\n",
        "echo: false\n",
        "section-divs: false\n",
        "keep-md: true\n",
        "---"
      ],
      "id": "1fb7c535"
    },
    {
      "cell_type": "code",
      "metadata": {},
      "source": [
        "from utilities import *\n",
        "pub_strs = load_publication_data(\"../publications.yaml\")"
      ],
      "id": "fa7afa72",
      "execution_count": null,
      "outputs": []
    },
    {
      "cell_type": "markdown",
      "metadata": {},
      "source": [
        "*My list of publications is also on [Google Scholar](https://scholar.google.com/citations?user=2O0cTMYAAAAJ).*\n",
        "\n",
        "## Published\n"
      ],
      "id": "d0396917"
    },
    {
      "cell_type": "code",
      "metadata": {},
      "source": [
        "#| label: published-year\n",
        "#| output: asis\n",
        "for year in sorted(pub_strs[\"pubs\"], reverse=True):\n",
        "    display(HTML(\n",
        "        \"<ul class='list-group list-group-flush'>\" + '\\n'.join(pub_strs[\"pubs\"][year]) + \"</ul>\"\n",
        "    ))"
      ],
      "id": "published-year",
      "execution_count": null,
      "outputs": []
    },
    {
      "cell_type": "markdown",
      "metadata": {},
      "source": [
        "## Preprints"
      ],
      "id": "5136c28f"
    },
    {
      "cell_type": "code",
      "metadata": {},
      "source": [
        "if len(pub_strs[\"wps\"]) == 0:\n",
        "    display(HTML(\n",
        "        \"Currently no unpublished work.\"\n",
        "    ))\n",
        "#| label: \"preprint\"\n",
        "#| id: \"preprint\"\n",
        "#| output: asis\n",
        "for year in sorted(pub_strs[\"wps\"], reverse=True):\n",
        "    display(HTML(\n",
        "        \"<ul class='list-group list-group-flush'>\" + '\\n'.join(pub_strs[\"wps\"][year]) + \"</ul>\"\n",
        "    ))"
      ],
      "id": "7ba1ad5d",
      "execution_count": null,
      "outputs": []
    }
  ],
  "metadata": {
    "kernelspec": {
      "name": "python3",
      "language": "python",
      "display_name": "Python 3 (ipykernel)"
    }
  },
  "nbformat": 4,
  "nbformat_minor": 5
}